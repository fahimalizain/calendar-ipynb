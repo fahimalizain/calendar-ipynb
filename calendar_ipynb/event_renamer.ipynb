{
 "cells": [
  {
   "cell_type": "code",
   "execution_count": 41,
   "id": "669caaf3",
   "metadata": {},
   "outputs": [
    {
     "name": "stderr",
     "output_type": "stream",
     "text": [
      "INFO:googleapiclient.discovery_cache:file_cache is only supported with oauth2client<4.0.0\n",
      "INFO:googleapiclient.discovery_cache:file_cache is only supported with oauth2client<4.0.0\n"
     ]
    },
    {
     "data": {
      "application/vnd.jupyter.widget-view+json": {
       "model_id": "7d0a468b3eaf49e1b3025fecf00a448d",
       "version_major": 2,
       "version_minor": 0
      },
      "text/plain": [
       "VBox(children=(VBox(children=(HTML(value='<b>fahimalizain@gmail.com</b>'), VBox(children=(Checkbox(value=True,…"
      ]
     },
     "metadata": {},
     "output_type": "display_data"
    }
   ],
   "source": [
    "import re\n",
    "from datetime import datetime\n",
    "from calendar_ipynb.ipywidgets.calendar_selection import (\n",
    "    select_calendars,\n",
    "    get_selected_calendars,\n",
    ")\n",
    "from calendar_ipynb.events import fetch_events_parallel\n",
    "\n",
    "EMAIL_IDS = [\"fahimalizain@gmail.com\", \"fahim.zain@kwalee.com\"]\n",
    "select_calendars(EMAIL_IDS)"
   ]
  },
  {
   "cell_type": "code",
   "execution_count": 44,
   "id": "36cebb18",
   "metadata": {},
   "outputs": [
    {
     "name": "stdout",
     "output_type": "stream",
     "text": [
      "{'fahimalizain@gmail.com': ['esvag4fbb8q192q3ksipqh5d2g@group.calendar.google.com', 'j9d5885raedlop9apnj5c4odoo@group.calendar.google.com', 'mbn0dk4phhhufr6hpbrl15p4h0@group.calendar.google.com', 'fahimalizain@gmail.com'], 'fahim.zain@kwalee.com': ['fahim.zain@kwalee.com']}\n"
     ]
    },
    {
     "name": "stderr",
     "output_type": "stream",
     "text": [
      "INFO:googleapiclient.discovery_cache:file_cache is only supported with oauth2client<4.0.0\n",
      "INFO:googleapiclient.discovery_cache:file_cache is only supported with oauth2client<4.0.0\n",
      "INFO:googleapiclient.discovery_cache:file_cache is only supported with oauth2client<4.0.0\n",
      "INFO:googleapiclient.discovery_cache:file_cache is only supported with oauth2client<4.0.0\n",
      "INFO:googleapiclient.discovery_cache:file_cache is only supported with oauth2client<4.0.0\n",
      "INFO:calendar_ipynb.events_incremental:Sync completed for fahimalizain@gmail.com/mbn0dk4phhhufr6hpbrl15p4h0@group.calendar.google.com: Added 0, Updated 0, Deleted 0\n",
      "INFO:calendar_ipynb.events_incremental:Sync completed for fahimalizain@gmail.com/j9d5885raedlop9apnj5c4odoo@group.calendar.google.com: Added 0, Updated 0, Deleted 0\n",
      "INFO:calendar_ipynb.events_incremental:Sync completed for fahimalizain@gmail.com/fahimalizain@gmail.com: Added 0, Updated 0, Deleted 0\n",
      "INFO:calendar_ipynb.events_incremental:Sync completed for fahim.zain@kwalee.com/fahim.zain@kwalee.com: Added 0, Updated 0, Deleted 0\n",
      "INFO:calendar_ipynb.events_incremental:Sync completed for fahimalizain@gmail.com/esvag4fbb8q192q3ksipqh5d2g@group.calendar.google.com: Added 0, Updated 0, Deleted 0\n"
     ]
    },
    {
     "name": "stdout",
     "output_type": "stream",
     "text": [
      "Found 5 events to rename\n",
      " - x1 'Parappanangadi Beach / Venniyur | Family' --> 'Parappanangadi Beach / Venniyur | KK-Relatives'\n",
      " - x1 'Venniyur / Pick Up Aawu & Aza | Family' --> 'Venniyur / Pick Up Aawu & Aza | KK-Relatives'\n",
      " - x1 'Pick Aawu from Venniyur | Family' --> 'Pick Aawu from Venniyur | KK-Relatives'\n",
      " - x1 'Kondotty to Venniyur | Family' --> 'Kondotty to Venniyur | KK-Relatives'\n",
      " - x1 'Venniyur | Family' --> 'Venniyur | KK-Relatives'\n"
     ]
    }
   ],
   "source": [
    "from calendar_ipynb.events import get_calendar_service\n",
    "\n",
    "\n",
    "TITLE_REGEX = r\"^(.*Venniyur.*) \\| Family$\"\n",
    "RENAME_REGEX = r\"\\1 | KK-Relatives\"\n",
    "\n",
    "from_datetime = datetime.fromisoformat(\"2025-01-01T00:00:00Z\".replace(\"Z\", \"+00:00\"))\n",
    "to_datetime = datetime.fromisoformat(\"2026-01-01T23:59:59Z\".replace(\"Z\", \"+00:00\"))\n",
    "print(get_selected_calendars())\n",
    "\n",
    "all_events = fetch_events_parallel(\n",
    "    email_map=get_selected_calendars(),\n",
    "    from_datetime=from_datetime,\n",
    "    to_datetime=to_datetime\n",
    ")\n",
    "\n",
    "matcher = re.compile(TITLE_REGEX)\n",
    "EVENTS_TO_RENAME = []\n",
    "for event in all_events:\n",
    "    if not matcher.match(event['summary']):\n",
    "        continue\n",
    "\n",
    "    if event.get(\"status\", None) != \"confirmed\":\n",
    "        continue\n",
    "\n",
    "    if event.get(\"eventType\", None) not in [\"default\", \"fromGmail\"]:\n",
    "        continue\n",
    "\n",
    "    if \"creator\" in event and event[\"creator\"].get(\"email\", None) != event[\"email\"]:\n",
    "        continue\n",
    "\n",
    "    EVENTS_TO_RENAME.append(event)\n",
    "\n",
    "print(f\"Found {len(EVENTS_TO_RENAME)} events to rename\")\n",
    "count_by_summary = {}\n",
    "for event in EVENTS_TO_RENAME:\n",
    "    count_by_summary[event['summary']] = count_by_summary.get(event['summary'], 0) + 1\n",
    "\n",
    "unique_summaries = list(set(event['summary'] for event in EVENTS_TO_RENAME))\n",
    "unique_summaries.sort(key=lambda s: count_by_summary[s], reverse=True)\n",
    "for summary in unique_summaries:\n",
    "    print(f\" - x{count_by_summary[summary]} '{summary}' --> '{re.sub(TITLE_REGEX, RENAME_REGEX, summary)}'\")"
   ]
  },
  {
   "cell_type": "code",
   "execution_count": 43,
   "id": "7cafdeac",
   "metadata": {},
   "outputs": [
    {
     "ename": "Exception",
     "evalue": "Stopping here to avoid accidental renaming. Manually invoke the renaming code below if you are sure.",
     "output_type": "error",
     "traceback": [
      "\u001b[0;31m---------------------------------------------------------------------------\u001b[0m",
      "\u001b[0;31mException\u001b[0m                                 Traceback (most recent call last)",
      "Cell \u001b[0;32mIn[43], line 1\u001b[0m\n\u001b[0;32m----> 1\u001b[0m \u001b[38;5;28;01mraise\u001b[39;00m \u001b[38;5;167;01mException\u001b[39;00m(\u001b[38;5;124m\"\u001b[39m\u001b[38;5;124mStopping here to avoid accidental renaming. Manually invoke the renaming code below if you are sure.\u001b[39m\u001b[38;5;124m\"\u001b[39m)\n",
      "\u001b[0;31mException\u001b[0m: Stopping here to avoid accidental renaming. Manually invoke the renaming code below if you are sure."
     ]
    }
   ],
   "source": [
    "raise Exception(\"Stopping here to avoid accidental renaming. Manually invoke the renaming code below if you are sure.\")"
   ]
  },
  {
   "cell_type": "code",
   "execution_count": 45,
   "id": "b6b57a0c",
   "metadata": {},
   "outputs": [
    {
     "name": "stderr",
     "output_type": "stream",
     "text": [
      "INFO:googleapiclient.discovery_cache:file_cache is only supported with oauth2client<4.0.0\n",
      "INFO:googleapiclient.discovery_cache:file_cache is only supported with oauth2client<4.0.0\n"
     ]
    },
    {
     "name": "stdout",
     "output_type": "stream",
     "text": [
      "Renamed 'Parappanangadi Beach / Venniyur | Family' to 'Parappanangadi Beach / Venniyur | KK-Relatives' {'dateTime': '2025-04-20T05:45:00+05:30', 'timeZone': 'Asia/Kolkata'}\n",
      "Renamed 'Pick Aawu from Venniyur | Family' to 'Pick Aawu from Venniyur | KK-Relatives' {'dateTime': '2025-04-20T06:45:00+05:30', 'timeZone': 'Asia/Kolkata'}\n",
      "Renamed 'Venniyur | Family' to 'Venniyur | KK-Relatives' {'dateTime': '2025-04-20T10:15:00+05:30', 'timeZone': 'Asia/Kolkata'}\n",
      "Renamed 'Venniyur / Pick Up Aawu & Aza | Family' to 'Venniyur / Pick Up Aawu & Aza | KK-Relatives' {'dateTime': '2025-05-18T06:15:00+05:30', 'timeZone': 'Asia/Kolkata'}\n",
      "Renamed 'Kondotty to Venniyur | Family' to 'Kondotty to Venniyur | KK-Relatives' {'dateTime': '2025-06-24T17:55:00+05:30', 'timeZone': 'Asia/Kolkata'}\n"
     ]
    }
   ],
   "source": [
    "SERVICE_MAP = {\n",
    "    email: get_calendar_service(email) for email in EMAIL_IDS\n",
    "}\n",
    "\n",
    "for event in EVENTS_TO_RENAME:\n",
    "    original_summary = event['summary']\n",
    "    new_summary = re.sub(TITLE_REGEX, RENAME_REGEX, original_summary)\n",
    "\n",
    "    service = SERVICE_MAP[event['email']]\n",
    "    service.events().update(\n",
    "        calendarId=event[\"calendar_id\"], eventId=event[\"id\"], body=dict(event, summary=new_summary)\n",
    "    ).execute()\n",
    "    print(\"Renamed\", f\"'{original_summary}'\", \"to\", f\"'{new_summary}'\", event[\"start\"])"
   ]
  }
 ],
 "metadata": {
  "kernelspec": {
   "display_name": ".venv",
   "language": "python",
   "name": "python3"
  },
  "language_info": {
   "codemirror_mode": {
    "name": "ipython",
    "version": 3
   },
   "file_extension": ".py",
   "mimetype": "text/x-python",
   "name": "python",
   "nbconvert_exporter": "python",
   "pygments_lexer": "ipython3",
   "version": "3.10.15"
  }
 },
 "nbformat": 4,
 "nbformat_minor": 5
}
