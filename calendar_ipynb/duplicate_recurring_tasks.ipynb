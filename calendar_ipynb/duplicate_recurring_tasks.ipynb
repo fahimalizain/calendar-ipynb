{
 "cells": [
  {
   "cell_type": "code",
   "execution_count": 10,
   "id": "70b49560",
   "metadata": {},
   "outputs": [
    {
     "name": "stderr",
     "output_type": "stream",
     "text": [
      "INFO:googleapiclient.discovery_cache:file_cache is only supported with oauth2client<4.0.0\n",
      "INFO:googleapiclient.discovery_cache:file_cache is only supported with oauth2client<4.0.0\n"
     ]
    }
   ],
   "source": [
    "from datetime import datetime, time, date\n",
    "from calendar_ipynb.ipywidgets.calendar_selection import get_selection_from_cache as get_selected_calendars\n",
    "from calendar_ipynb.events import fetch_events, get_primary_timezone, delete_and_duplicate_recurring_event_instance\n",
    "\n",
    "target_date = \"2025-05-11\"\n",
    "\n",
    "selected_calendars = get_selected_calendars()\n",
    "if not selected_calendars:\n",
    "    raise ValueError(\"No calendars selected\")\n",
    "\n",
    "primary_timezone = get_primary_timezone(selected_calendars=selected_calendars)"
   ]
  },
  {
   "cell_type": "code",
   "execution_count": 11,
   "id": "20e5c16d",
   "metadata": {},
   "outputs": [
    {
     "name": "stderr",
     "output_type": "stream",
     "text": [
      "INFO:calendar_ipynb.events:Fetching events from 2025-05-11T00:00:00+05:30 to 2025-05-11T23:59:59+05:30for fahimalizain@gmail.com\n",
      "INFO:googleapiclient.discovery_cache:file_cache is only supported with oauth2client<4.0.0\n",
      "INFO:calendar_ipynb.events:Fetching events from 2025-05-11T00:00:00+05:30 to 2025-05-11T23:59:59+05:30for fahimalizain@gmail.com\n",
      "INFO:googleapiclient.discovery_cache:file_cache is only supported with oauth2client<4.0.0\n",
      "INFO:calendar_ipynb.events:Fetching events from 2025-05-11T00:00:00+05:30 to 2025-05-11T23:59:59+05:30for fahimalizain@gmail.com\n",
      "INFO:googleapiclient.discovery_cache:file_cache is only supported with oauth2client<4.0.0\n",
      "INFO:calendar_ipynb.events:Fetching events from 2025-05-11T00:00:00+05:30 to 2025-05-11T23:59:59+05:30for fahimalizain@gmail.com\n",
      "INFO:googleapiclient.discovery_cache:file_cache is only supported with oauth2client<4.0.0\n",
      "INFO:calendar_ipynb.events:Fetching events from 2025-05-11T00:00:00+05:30 to 2025-05-11T23:59:59+05:30for fahim.zain@kwalee.com\n",
      "INFO:googleapiclient.discovery_cache:file_cache is only supported with oauth2client<4.0.0\n"
     ]
    }
   ],
   "source": [
    "from_datetime = datetime.combine(date.fromisoformat(target_date), time(0, 0, 0)).replace(tzinfo=primary_timezone)\n",
    "to_datetime = datetime.combine(date.fromisoformat(target_date), time(23, 59, 59)).replace(tzinfo=primary_timezone)\n",
    "events = []\n",
    "\n",
    "for email, calendars in selected_calendars.items():\n",
    "    for calendar_id in calendars:\n",
    "        # Fetch events for the selected calendar\n",
    "        events.extend(fetch_events(\n",
    "            email=email,\n",
    "            calendar_id=calendar_id,\n",
    "            from_datetime=from_datetime,\n",
    "            to_datetime=to_datetime,\n",
    "        ))"
   ]
  },
  {
   "cell_type": "code",
   "execution_count": 12,
   "id": "305beb60",
   "metadata": {},
   "outputs": [
    {
     "name": "stderr",
     "output_type": "stream",
     "text": [
      "INFO:googleapiclient.discovery_cache:file_cache is only supported with oauth2client<4.0.0\n",
      "INFO:calendar_ipynb.events:Deleting and duplicating event instance: TENETS Reminder!\n",
      "INFO:calendar_ipynb.events:Created new event: https://www.google.com/calendar/event?eid=cmlzZmdxZ3I5dDJ0a2tpaXRibXM2NXBiM2MgbWJuMGRrNHBoaGh1ZnI2aHBicmwxNXA0aDBAZw\n",
      "INFO:calendar_ipynb.events:Deleted original instance: https://www.google.com/calendar/event?eid=NWJhNjU4Yzk0ZWUyNDI1OWE2NmMzNDI1MWQ4ZTY3ZGZfMjAyNTA1MTFUMDMzMDAwWiBtYm4wZGs0cGhoaHVmcjZocGJybDE1cDRoMEBn\n",
      "INFO:googleapiclient.discovery_cache:file_cache is only supported with oauth2client<4.0.0\n",
      "INFO:calendar_ipynb.events:Deleting and duplicating event instance: Book CRLM to CLT Train Ticket\n",
      "INFO:calendar_ipynb.events:Created new event: https://www.google.com/calendar/event?eid=aWJsa25ndmdxZXRrbGpmNnMydXZ0aGxtcDggZmFoaW1hbGl6YWluQG0\n",
      "INFO:calendar_ipynb.events:Deleted original instance: https://www.google.com/calendar/event?eid=ZGZiMDI5NTJlOTU5NDJmNDk5NDUzMDk4OTM4NzczNmVfMjAyNTA1MTFUMDIzMDAwWiBmYWhpbWFsaXphaW5AbQ\n",
      "INFO:googleapiclient.discovery_cache:file_cache is only supported with oauth2client<4.0.0\n",
      "INFO:calendar_ipynb.events:Deleting and duplicating event instance: Get Ready for Bed\n",
      "INFO:calendar_ipynb.events:Created new event: https://www.google.com/calendar/event?eid=bzY0N2kwZGI3MzM4ZWZ1anZyZzNhN282b2cgZmFoaW1hbGl6YWluQG0\n",
      "INFO:calendar_ipynb.events:Deleted original instance: https://www.google.com/calendar/event?eid=OGI3MDQ3MzI5ZjJhNDU0MmJlMGE3ZDVlMTM3ZGRlZTdfMjAyNTA1MTFUMTUzMDAwWiBmYWhpbWFsaXphaW5AbQ\n",
      "INFO:googleapiclient.discovery_cache:file_cache is only supported with oauth2client<4.0.0\n",
      "INFO:calendar_ipynb.events:Deleting and duplicating event instance: DSM | Kidooza\n",
      "INFO:calendar_ipynb.events:Created new event: https://www.google.com/calendar/event?eid=dW5zOWV1amE1dGpwcTUydTIycXJpY2VnczQgajlkNTg4NXJhZWRsb3A5YXBuajVjNG9kb29AZw\n",
      "INFO:calendar_ipynb.events:Deleted original instance: https://www.google.com/calendar/event?eid=OTZlOTFkNDhkMTdkNDIwNmI3NjhjYzA4Y2E1NTVlMjVfMjAyNTA1MTFUMDIzMDAwWiBqOWQ1ODg1cmFlZGxvcDlhcG5qNWM0b2Rvb0Bn\n"
     ]
    }
   ],
   "source": [
    "for event in events:\n",
    "    if not event.get(\"recurringEventId\", None):\n",
    "        continue\n",
    "\n",
    "    delete_and_duplicate_recurring_event_instance(\n",
    "        email=event['email'],\n",
    "        calendar_id=event['calendar_id'],\n",
    "        instance=event\n",
    "    )"
   ]
  }
 ],
 "metadata": {
  "kernelspec": {
   "display_name": ".venv",
   "language": "python",
   "name": "python3"
  },
  "language_info": {
   "codemirror_mode": {
    "name": "ipython",
    "version": 3
   },
   "file_extension": ".py",
   "mimetype": "text/x-python",
   "name": "python",
   "nbconvert_exporter": "python",
   "pygments_lexer": "ipython3",
   "version": "3.10.13"
  }
 },
 "nbformat": 4,
 "nbformat_minor": 5
}
