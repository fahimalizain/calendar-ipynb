{
 "cells": [
  {
   "cell_type": "code",
   "execution_count": 1,
   "id": "70b49560",
   "metadata": {},
   "outputs": [
    {
     "name": "stderr",
     "output_type": "stream",
     "text": [
      "INFO:googleapiclient.discovery_cache:file_cache is only supported with oauth2client<4.0.0\n"
     ]
    },
    {
     "name": "stdout",
     "output_type": "stream",
     "text": [
      "Logging Setup!\n"
     ]
    },
    {
     "name": "stderr",
     "output_type": "stream",
     "text": [
      "INFO:googleapiclient.discovery_cache:file_cache is only supported with oauth2client<4.0.0\n"
     ]
    }
   ],
   "source": [
    "from datetime import datetime, time, date\n",
    "from calendar_ipynb.ipywidgets.calendar_selection import get_selection_from_cache as get_selected_calendars\n",
    "from calendar_ipynb.events import fetch_events, get_primary_timezone, delete_and_duplicate_recurring_event_instance\n",
    "\n",
    "target_date = \"2025-09-07\"\n",
    "\n",
    "selected_calendars = get_selected_calendars()\n",
    "if not selected_calendars:\n",
    "    raise ValueError(\"No calendars selected\")\n",
    "\n",
    "primary_timezone = get_primary_timezone(selected_calendars=selected_calendars)"
   ]
  },
  {
   "cell_type": "code",
   "execution_count": 2,
   "id": "20e5c16d",
   "metadata": {},
   "outputs": [
    {
     "name": "stderr",
     "output_type": "stream",
     "text": [
      "INFO:calendar_ipynb.events:Fetching events from 2025-09-07T00:00:00+05:30 to 2025-09-07T23:59:59+05:30for fahimalizain@gmail.com\n",
      "INFO:googleapiclient.discovery_cache:file_cache is only supported with oauth2client<4.0.0\n",
      "INFO:calendar_ipynb.events:Fetching events from 2025-09-07T00:00:00+05:30 to 2025-09-07T23:59:59+05:30for fahimalizain@gmail.com\n",
      "INFO:googleapiclient.discovery_cache:file_cache is only supported with oauth2client<4.0.0\n",
      "INFO:calendar_ipynb.events:Fetching events from 2025-09-07T00:00:00+05:30 to 2025-09-07T23:59:59+05:30for fahimalizain@gmail.com\n",
      "INFO:googleapiclient.discovery_cache:file_cache is only supported with oauth2client<4.0.0\n",
      "INFO:calendar_ipynb.events:Fetching events from 2025-09-07T00:00:00+05:30 to 2025-09-07T23:59:59+05:30for fahimalizain@gmail.com\n",
      "INFO:googleapiclient.discovery_cache:file_cache is only supported with oauth2client<4.0.0\n",
      "INFO:calendar_ipynb.events:Fetching events from 2025-09-07T00:00:00+05:30 to 2025-09-07T23:59:59+05:30for fahim.zain@kwalee.com\n",
      "INFO:googleapiclient.discovery_cache:file_cache is only supported with oauth2client<4.0.0\n"
     ]
    }
   ],
   "source": [
    "from_datetime = datetime.combine(date.fromisoformat(target_date), time(0, 0, 0)).replace(tzinfo=primary_timezone)\n",
    "to_datetime = datetime.combine(date.fromisoformat(target_date), time(23, 59, 59)).replace(tzinfo=primary_timezone)\n",
    "events = []\n",
    "\n",
    "for email, calendars in selected_calendars.items():\n",
    "    for calendar_id in calendars:\n",
    "        # Fetch events for the selected calendar\n",
    "        events.extend(fetch_events(\n",
    "            email=email,\n",
    "            calendar_id=calendar_id,\n",
    "            from_datetime=from_datetime,\n",
    "            to_datetime=to_datetime,\n",
    "        ))"
   ]
  },
  {
   "cell_type": "code",
   "execution_count": 3,
   "id": "305beb60",
   "metadata": {},
   "outputs": [
    {
     "name": "stderr",
     "output_type": "stream",
     "text": [
      "INFO:googleapiclient.discovery_cache:file_cache is only supported with oauth2client<4.0.0\n",
      "INFO:calendar_ipynb.events:Deleting and duplicating event instance: Woke Up\n",
      "INFO:calendar_ipynb.events:Created new event: https://www.google.com/calendar/event?eid=MHZzZmQzaWpqYmxqNDdhanJyOGNqaDE1ZzAgZXN2YWc0ZmJiOHExOTJxM2tzaXBxaDVkMmdAZw\n",
      "INFO:calendar_ipynb.events:Deleted original instance: https://www.google.com/calendar/event?eid=ZGMyYzc4OWRmMDhkNDc3YTkzMzUxNGI3OTdjMGQxNjJfMjAyNTA5MDZUMjMzMDAwWiBlc3ZhZzRmYmI4cTE5MnEza3NpcHFoNWQyZ0Bn\n",
      "INFO:googleapiclient.discovery_cache:file_cache is only supported with oauth2client<4.0.0\n",
      "INFO:calendar_ipynb.events:Deleting and duplicating event instance: Prayer: Subah\n",
      "INFO:calendar_ipynb.events:Created new event: https://www.google.com/calendar/event?eid=NDMxZzd1Z3Y1ZWo2NTRwNW1iNHNlZWxrOGcgZXN2YWc0ZmJiOHExOTJxM2tzaXBxaDVkMmdAZw\n",
      "INFO:calendar_ipynb.events:Deleted original instance: https://www.google.com/calendar/event?eid=a3JiYXE1cTVmZGFoZThlNDV1bG1jaW0yZzdfMjAyNTA5MDZUMjM0NTAwWiBlc3ZhZzRmYmI4cTE5MnEza3NpcHFoNWQyZ0Bn\n",
      "INFO:googleapiclient.discovery_cache:file_cache is only supported with oauth2client<4.0.0\n",
      "INFO:calendar_ipynb.events:Deleting and duplicating event instance: Muraqaba\n",
      "INFO:calendar_ipynb.events:Created new event: https://www.google.com/calendar/event?eid=aGNybjI1bW9tZGZyOXBhbnEyZHNwb20zbmcgZXN2YWc0ZmJiOHExOTJxM2tzaXBxaDVkMmdAZw\n",
      "INFO:calendar_ipynb.events:Deleted original instance: https://www.google.com/calendar/event?eid=M2Q1NzFmY2dsa2R1YnYwaHFxaTVmcWNia2FfMjAyNTA5MDdUMDAwMDAwWiBlc3ZhZzRmYmI4cTE5MnEza3NpcHFoNWQyZ0Bn\n",
      "INFO:googleapiclient.discovery_cache:file_cache is only supported with oauth2client<4.0.0\n",
      "INFO:calendar_ipynb.events:Deleting and duplicating event instance: Focused Tavajjuh | Spiritual\n",
      "INFO:calendar_ipynb.events:Created new event: https://www.google.com/calendar/event?eid=Nzg3MjZvdG5pdGw5ZjNsM2hwNG9hNWE5a3MgZXN2YWc0ZmJiOHExOTJxM2tzaXBxaDVkMmdAZw\n",
      "INFO:calendar_ipynb.events:Deleted original instance: https://www.google.com/calendar/event?eid=MDVlNDAzOGZlNTliNDMyNzkxOTVkZmU4MmJkMmRmMzZfMjAyNTA5MDdUMDAzMDAwWiBlc3ZhZzRmYmI4cTE5MnEza3NpcHFoNWQyZ0Bn\n",
      "INFO:googleapiclient.discovery_cache:file_cache is only supported with oauth2client<4.0.0\n",
      "INFO:calendar_ipynb.events:Deleting and duplicating event instance: Salat & Istighfar\n",
      "INFO:calendar_ipynb.events:Created new event: https://www.google.com/calendar/event?eid=aW1xaDYxbzl1bHFpNzV1czZ2NTRiczU3aGMgZXN2YWc0ZmJiOHExOTJxM2tzaXBxaDVkMmdAZw\n",
      "INFO:calendar_ipynb.events:Deleted original instance: https://www.google.com/calendar/event?eid=MGVkNjY3NmZkZmE5NDg5Y2JjYjk3OWNkMDU2ZGNjNDdfMjAyNTA5MDdUMDAzMDAwWiBlc3ZhZzRmYmI4cTE5MnEza3NpcHFoNWQyZ0Bn\n",
      "INFO:googleapiclient.discovery_cache:file_cache is only supported with oauth2client<4.0.0\n",
      "INFO:calendar_ipynb.events:Deleting and duplicating event instance: 5km Jogging | Fitness\n",
      "INFO:calendar_ipynb.events:Created new event: https://www.google.com/calendar/event?eid=NGlxNGU1NzM2NjVxM2hsc3I5Z2hlcmlpM2cgZXN2YWc0ZmJiOHExOTJxM2tzaXBxaDVkMmdAZw\n",
      "INFO:calendar_ipynb.events:Deleted original instance: https://www.google.com/calendar/event?eid=NW43ZzZvZGZtMTlob2JmdWt1czd0MG43Zm5fMjAyNTA5MDdUMDA0NTAwWiBlc3ZhZzRmYmI4cTE5MnEza3NpcHFoNWQyZ0Bn\n",
      "INFO:googleapiclient.discovery_cache:file_cache is only supported with oauth2client<4.0.0\n",
      "INFO:calendar_ipynb.events:Deleting and duplicating event instance: Weigh Yourselves | Fitness\n",
      "INFO:calendar_ipynb.events:Created new event: https://www.google.com/calendar/event?eid=c3FndDkyNW85dmc4OHU0MDB0MTRjdmJsaTggZXN2YWc0ZmJiOHExOTJxM2tzaXBxaDVkMmdAZw\n",
      "INFO:calendar_ipynb.events:Deleted original instance: https://www.google.com/calendar/event?eid=NWU0NmI2MGMwMzhlNDY2Mjk0NjI1NWNmODlhZGExNjJfMjAyNTA5MDdUMDExNTAwWiBlc3ZhZzRmYmI4cTE5MnEza3NpcHFoNWQyZ0Bn\n",
      "INFO:googleapiclient.discovery_cache:file_cache is only supported with oauth2client<4.0.0\n",
      "INFO:calendar_ipynb.events:Deleting and duplicating event instance: Check Emails\n",
      "INFO:calendar_ipynb.events:Created new event: https://www.google.com/calendar/event?eid=YTBmcDVybXVpNDRlZXVpMGwwcDAwa3Vubm8gZXN2YWc0ZmJiOHExOTJxM2tzaXBxaDVkMmdAZw\n",
      "INFO:calendar_ipynb.events:Deleted original instance: https://www.google.com/calendar/event?eid=Mzk0OTFiZWY1NDc3NDViNDg2ZmQwZDNjZmYyMzlhMDlfMjAyNTA5MDdUMDMzMDAwWiBlc3ZhZzRmYmI4cTE5MnEza3NpcHFoNWQyZ0Bn\n",
      "INFO:googleapiclient.discovery_cache:file_cache is only supported with oauth2client<4.0.0\n",
      "INFO:calendar_ipynb.events:Deleting and duplicating event instance: Personal Finance\n",
      "INFO:calendar_ipynb.events:Created new event: https://www.google.com/calendar/event?eid=dThhYzQzNDdzN240M2ZrMnNuMGk1bDJmNHMgZXN2YWc0ZmJiOHExOTJxM2tzaXBxaDVkMmdAZw\n",
      "INFO:calendar_ipynb.events:Deleted original instance: https://www.google.com/calendar/event?eid=NzMwYjEwNGYyNjFkNDEzMGE5M2ZkYzdiZmZjZGQ3YmJfMjAyNTA5MDdUMDMzMDAwWiBlc3ZhZzRmYmI4cTE5MnEza3NpcHFoNWQyZ0Bn\n",
      "INFO:googleapiclient.discovery_cache:file_cache is only supported with oauth2client<4.0.0\n",
      "INFO:calendar_ipynb.events:Deleting and duplicating event instance: Prayer: Duhr\n",
      "INFO:calendar_ipynb.events:Created new event: https://www.google.com/calendar/event?eid=cmI4cmVya3VsYnFnZ2lsNGNiODNmZXRnbTAgZXN2YWc0ZmJiOHExOTJxM2tzaXBxaDVkMmdAZw\n",
      "INFO:calendar_ipynb.events:Deleted original instance: https://www.google.com/calendar/event?eid=NjBhYmZmODRhZjlkNDE0NmFkNjIyMDIyNTJjNDdhZTZfMjAyNTA5MDdUMDczMDAwWiBlc3ZhZzRmYmI4cTE5MnEza3NpcHFoNWQyZ0Bn\n",
      "INFO:googleapiclient.discovery_cache:file_cache is only supported with oauth2client<4.0.0\n",
      "INFO:calendar_ipynb.events:Deleting and duplicating event instance: Salat & Istighfar\n",
      "INFO:calendar_ipynb.events:Created new event: https://www.google.com/calendar/event?eid=anR0dDdyaGhhdWk3YnFybnB2OTVibXMxcmMgZXN2YWc0ZmJiOHExOTJxM2tzaXBxaDVkMmdAZw\n",
      "INFO:calendar_ipynb.events:Deleted original instance: https://www.google.com/calendar/event?eid=dGpwOTNrbmtxOWo1bmJlNjRqaDQ1MHZuY2ZfMjAyNTA5MDdUMDczMDAwWiBlc3ZhZzRmYmI4cTE5MnEza3NpcHFoNWQyZ0Bn\n",
      "INFO:googleapiclient.discovery_cache:file_cache is only supported with oauth2client<4.0.0\n",
      "INFO:calendar_ipynb.events:Deleting and duplicating event instance: Prayer: Asr\n",
      "INFO:calendar_ipynb.events:Created new event: https://www.google.com/calendar/event?eid=ZDhpbXI3YW5waWZwaTI0bXNyM245ajNtMDggZXN2YWc0ZmJiOHExOTJxM2tzaXBxaDVkMmdAZw\n",
      "INFO:calendar_ipynb.events:Deleted original instance: https://www.google.com/calendar/event?eid=NmYyODg3YTBkODc5NDg0ZWE3ZDlkOTg4YTgwYjQxMWZfMjAyNTA5MDdUMTAzMDAwWiBlc3ZhZzRmYmI4cTE5MnEza3NpcHFoNWQyZ0Bn\n",
      "INFO:googleapiclient.discovery_cache:file_cache is only supported with oauth2client<4.0.0\n",
      "INFO:calendar_ipynb.events:Deleting and duplicating event instance: Prayer: Maghrib\n",
      "INFO:calendar_ipynb.events:Created new event: https://www.google.com/calendar/event?eid=OGNxOGM5amxtNzdycmY5bzg1anVuMG9ibGcgZXN2YWc0ZmJiOHExOTJxM2tzaXBxaDVkMmdAZw\n",
      "INFO:calendar_ipynb.events:Deleted original instance: https://www.google.com/calendar/event?eid=MmFlYzQwNmE0YmIwNDA0MWI5ZDdiYTQ1NWU3YjJkYWNfMjAyNTA5MDdUMTMwMDAwWiBlc3ZhZzRmYmI4cTE5MnEza3NpcHFoNWQyZ0Bn\n",
      "INFO:googleapiclient.discovery_cache:file_cache is only supported with oauth2client<4.0.0\n",
      "INFO:calendar_ipynb.events:Deleting and duplicating event instance: Plan Tomorrow | Scheduling\n",
      "INFO:calendar_ipynb.events:Created new event: https://www.google.com/calendar/event?eid=cTdpZHM5cWJwMnZkazFpMnZoOTN0YzR1bDAgZXN2YWc0ZmJiOHExOTJxM2tzaXBxaDVkMmdAZw\n",
      "INFO:calendar_ipynb.events:Deleted original instance: https://www.google.com/calendar/event?eid=NjRhZGQzY2E2NTIxNDc5NWFhZmQ4ODAwMmE0YTgzZDhfMjAyNTA5MDdUMTMwMDAwWiBlc3ZhZzRmYmI4cTE5MnEza3NpcHFoNWQyZ0Bn\n",
      "INFO:googleapiclient.discovery_cache:file_cache is only supported with oauth2client<4.0.0\n",
      "INFO:calendar_ipynb.events:Deleting and duplicating event instance: Focused Tavajjuh | Spiritual\n",
      "INFO:calendar_ipynb.events:Created new event: https://www.google.com/calendar/event?eid=amw4NnRkOW9tczd2cXNjOGprY2IwcnVjOW8gZXN2YWc0ZmJiOHExOTJxM2tzaXBxaDVkMmdAZw\n",
      "INFO:calendar_ipynb.events:Deleted original instance: https://www.google.com/calendar/event?eid=NmQ4NWZlZTgyNDY1NDlmYzkzNzgyZjNjMzBlOWJhZjRfMjAyNTA5MDdUMTMzMDAwWiBlc3ZhZzRmYmI4cTE5MnEza3NpcHFoNWQyZ0Bn\n",
      "INFO:googleapiclient.discovery_cache:file_cache is only supported with oauth2client<4.0.0\n",
      "INFO:calendar_ipynb.events:Deleting and duplicating event instance: Prayer: Isha\n",
      "INFO:calendar_ipynb.events:Created new event: https://www.google.com/calendar/event?eid=cm1oZ3BpdWtlNXJkdDlnaWVqazA1cm1tYTAgZXN2YWc0ZmJiOHExOTJxM2tzaXBxaDVkMmdAZw\n",
      "INFO:calendar_ipynb.events:Deleted original instance: https://www.google.com/calendar/event?eid=NzE5N2U1NDhiNDc2NDdmNDkyOTliYWNiYzNiNjRlZTdfMjAyNTA5MDdUMTQzMDAwWiBlc3ZhZzRmYmI4cTE5MnEza3NpcHFoNWQyZ0Bn\n",
      "INFO:googleapiclient.discovery_cache:file_cache is only supported with oauth2client<4.0.0\n",
      "INFO:calendar_ipynb.events:Deleting and duplicating event instance: Asleep\n",
      "INFO:calendar_ipynb.events:Created new event: https://www.google.com/calendar/event?eid=NWpxZDByYzd1bjE0bHRraHE3MHQ3aHNzM2cgZXN2YWc0ZmJiOHExOTJxM2tzaXBxaDVkMmdAZw\n",
      "INFO:calendar_ipynb.events:Deleted original instance: https://www.google.com/calendar/event?eid=MmhxZnNxdDR2bDJvZmV2NDU2NWtzNDNuaGhfMjAyNTA5MDdUMTUzMDAwWiBlc3ZhZzRmYmI4cTE5MnEza3NpcHFoNWQyZ0Bn\n",
      "INFO:googleapiclient.discovery_cache:file_cache is only supported with oauth2client<4.0.0\n",
      "INFO:calendar_ipynb.events:Deleting and duplicating event instance: Mouthi Muraqaba\n",
      "INFO:calendar_ipynb.events:Created new event: https://www.google.com/calendar/event?eid=dG5xOThhbW1tYW5laHFtYmVsYmgwZ3A0c28gZXN2YWc0ZmJiOHExOTJxM2tzaXBxaDVkMmdAZw\n",
      "INFO:calendar_ipynb.events:Deleted original instance: https://www.google.com/calendar/event?eid=Ymh2ZWRrb2dhaGdpajByMGhvZHR0bWV1b3RfMjAyNTA5MDdUMTUzMDAwWiBlc3ZhZzRmYmI4cTE5MnEza3NpcHFoNWQyZ0Bn\n",
      "INFO:googleapiclient.discovery_cache:file_cache is only supported with oauth2client<4.0.0\n",
      "INFO:calendar_ipynb.events:Deleting and duplicating event instance: TENETS Reminder!\n",
      "INFO:calendar_ipynb.events:Created new event: https://www.google.com/calendar/event?eid=bThocjRjN29hdnJkcnB1MXFndDZ1Mm52ZTggbWJuMGRrNHBoaGh1ZnI2aHBicmwxNXA0aDBAZw\n",
      "INFO:calendar_ipynb.events:Deleted original instance: https://www.google.com/calendar/event?eid=NWJhNjU4Yzk0ZWUyNDI1OWE2NmMzNDI1MWQ4ZTY3ZGZfMjAyNTA5MDdUMDMzMDAwWiBtYm4wZGs0cGhoaHVmcjZocGJybDE1cDRoMEBn\n",
      "INFO:googleapiclient.discovery_cache:file_cache is only supported with oauth2client<4.0.0\n",
      "INFO:calendar_ipynb.events:Deleting and duplicating event instance: Book CRLM to CLT Train Ticket | Commute\n",
      "INFO:calendar_ipynb.events:Created new event: https://www.google.com/calendar/event?eid=NjA0MjlhMDJkdW5mYTh2OXVzdWlpNGR0YW8gZmFoaW1hbGl6YWluQG0\n",
      "INFO:calendar_ipynb.events:Deleted original instance: https://www.google.com/calendar/event?eid=ZGZiMDI5NTJlOTU5NDJmNDk5NDUzMDk4OTM4NzczNmVfMjAyNTA5MDdUMDIzMDAwWiBmYWhpbWFsaXphaW5AbQ\n",
      "INFO:googleapiclient.discovery_cache:file_cache is only supported with oauth2client<4.0.0\n",
      "INFO:calendar_ipynb.events:Deleting and duplicating event instance: FSK Diet Reminder | Family\n",
      "INFO:calendar_ipynb.events:Created new event: https://www.google.com/calendar/event?eid=Y2ptOTgxOWh2bDY5NzA4NzkwcmNsZG4xaDAgZmFoaW1hbGl6YWluQG0\n",
      "INFO:calendar_ipynb.events:Deleted original instance: https://www.google.com/calendar/event?eid=MTZkOWQxZTQ2OWM4NGZhOTk4Yzc3YWQ0ZWY5MDUwMmFfMjAyNTA5MDdUMDczMDAwWiBmYWhpbWFsaXphaW5AbQ\n",
      "INFO:googleapiclient.discovery_cache:file_cache is only supported with oauth2client<4.0.0\n",
      "INFO:calendar_ipynb.events:Deleting and duplicating event instance: Get Ready for Bed / Set Proper Alarm\n",
      "INFO:calendar_ipynb.events:Created new event: https://www.google.com/calendar/event?eid=M2MyYzVxaGpwbzhhMjhpdjYzOWtocWNwMW8gZmFoaW1hbGl6YWluQG0\n",
      "INFO:calendar_ipynb.events:Deleted original instance: https://www.google.com/calendar/event?eid=OGI3MDQ3MzI5ZjJhNDU0MmJlMGE3ZDVlMTM3ZGRlZTdfMjAyNTA5MDdUMTUzMDAwWiBmYWhpbWFsaXphaW5AbQ\n"
     ]
    }
   ],
   "source": [
    "for event in events:\n",
    "    if not event.get(\"recurringEventId\", None):\n",
    "        continue\n",
    "\n",
    "    if event.get(\"status\", None) != \"confirmed\":\n",
    "        continue\n",
    "\n",
    "    if event.get(\"eventType\", None) not in [\"default\", \"fromGmail\"]:\n",
    "        continue\n",
    "\n",
    "    if \"creator\" in event and event[\"creator\"].get(\"email\", None) != event[\"email\"]:\n",
    "        continue\n",
    "\n",
    "    delete_and_duplicate_recurring_event_instance(\n",
    "        email=event['email'],\n",
    "        calendar_id=event['calendar_id'],\n",
    "        instance=event\n",
    "    )"
   ]
  }
 ],
 "metadata": {
  "kernelspec": {
   "display_name": ".venv",
   "language": "python",
   "name": "python3"
  },
  "language_info": {
   "codemirror_mode": {
    "name": "ipython",
    "version": 3
   },
   "file_extension": ".py",
   "mimetype": "text/x-python",
   "name": "python",
   "nbconvert_exporter": "python",
   "pygments_lexer": "ipython3",
   "version": "3.10.15"
  }
 },
 "nbformat": 4,
 "nbformat_minor": 5
}
